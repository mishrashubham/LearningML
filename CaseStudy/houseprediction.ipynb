{
 "cells": [
  {
   "cell_type": "code",
   "execution_count": 1,
   "metadata": {
    "collapsed": false
   },
   "outputs": [
    {
     "name": "stderr",
     "output_type": "stream",
     "text": [
      "[INFO] graphlab.cython.cy_server: GraphLab Create v2.1 started. Logging: /tmp/graphlab_server_1469789927.log\n"
     ]
    },
    {
     "name": "stdout",
     "output_type": "stream",
     "text": [
      "This non-commercial license of GraphLab Create for academic use is assigned to shubhammishra1674@gmail.com and will expire on July 13, 2017.\n"
     ]
    },
    {
     "data": {
      "application/javascript": [
       "$(\"head\").append($(\"<link/>\").attr({\n",
       "  rel:  \"stylesheet\",\n",
       "  type: \"text/css\",\n",
       "  href: \"//cdnjs.cloudflare.com/ajax/libs/font-awesome/4.1.0/css/font-awesome.min.css\"\n",
       "}));\n",
       "$(\"head\").append($(\"<link/>\").attr({\n",
       "  rel:  \"stylesheet\",\n",
       "  type: \"text/css\",\n",
       "  href: \"https://static.turi.com/products/graphlab-create/2.1/canvas/css/canvas.css\"\n",
       "}));\n",
       "\n",
       "            (function(){\n",
       "\n",
       "                var e = null;\n",
       "                if (typeof element == 'undefined') {\n",
       "                    var scripts = document.getElementsByTagName('script');\n",
       "                    var thisScriptTag = scripts[scripts.length-1];\n",
       "                    var parentDiv = thisScriptTag.parentNode;\n",
       "                    e = document.createElement('div');\n",
       "                    parentDiv.appendChild(e);\n",
       "                } else {\n",
       "                    e = element[0];\n",
       "                }\n",
       "\n",
       "                if (typeof requirejs !== 'undefined') {\n",
       "                    // disable load timeout; ipython_app.js is large and can take a while to load.\n",
       "                    requirejs.config({waitSeconds: 0});\n",
       "                }\n",
       "\n",
       "                require(['https://static.turi.com/products/graphlab-create/2.1/canvas/js/ipython_app.js'], function(IPythonApp){\n",
       "                    var app = new IPythonApp();\n",
       "                    app.attachView('sframe','Plots', {\"selected_variable\": {\"name\": [\"sales\"], \"descriptives\": {\"rows\": 21613, \"columns\": 21}, \"view_component\": \"Plots\", \"view_file\": \"sframe\", \"view_params\": {\"y\": \"price\", \"x\": \"sqft_living\", \"columns\": [\"id\", \"date\", \"price\", \"bedrooms\", \"bathrooms\", \"sqft_living\", \"sqft_lot\", \"floors\", \"waterfront\", \"view\", \"condition\", \"grade\", \"sqft_above\", \"sqft_basement\", \"yr_built\", \"yr_renovated\", \"zipcode\", \"lat\", \"long\", \"sqft_living15\", \"sqft_lot15\"], \"view\": \"Scatter Plot\"}, \"view_components\": [\"Summary\", \"Table\", \"Bar Chart\", \"BoxWhisker Plot\", \"Line Chart\", \"Scatter Plot\", \"Heat Map\", \"Plots\"], \"type\": \"SFrame\", \"columns\": [{\"dtype\": \"str\", \"name\": \"id\"}, {\"dtype\": \"datetime\", \"name\": \"date\"}, {\"dtype\": \"int\", \"name\": \"price\"}, {\"dtype\": \"str\", \"name\": \"bedrooms\"}, {\"dtype\": \"str\", \"name\": \"bathrooms\"}, {\"dtype\": \"int\", \"name\": \"sqft_living\"}, {\"dtype\": \"int\", \"name\": \"sqft_lot\"}, {\"dtype\": \"str\", \"name\": \"floors\"}, {\"dtype\": \"int\", \"name\": \"waterfront\"}, {\"dtype\": \"int\", \"name\": \"view\"}, {\"dtype\": \"int\", \"name\": \"condition\"}, {\"dtype\": \"int\", \"name\": \"grade\"}, {\"dtype\": \"int\", \"name\": \"sqft_above\"}, {\"dtype\": \"int\", \"name\": \"sqft_basement\"}, {\"dtype\": \"int\", \"name\": \"yr_built\"}, {\"dtype\": \"int\", \"name\": \"yr_renovated\"}, {\"dtype\": \"str\", \"name\": \"zipcode\"}, {\"dtype\": \"float\", \"name\": \"lat\"}, {\"dtype\": \"float\", \"name\": \"long\"}, {\"dtype\": \"float\", \"name\": \"sqft_living15\"}, {\"dtype\": \"float\", \"name\": \"sqft_lot15\"}], \"column_identifiers\": [\"bathrooms\", \"sqft_living15\", \"sqft_above\", \"grade\", \"yr_built\", \"price\", \"bedrooms\", \"zipcode\", \"long\", \"id\", \"sqft_lot15\", \"sqft_living\", \"floors\", \"sqft_lot\", \"date\", \"waterfront\", \"sqft_basement\", \"yr_renovated\", \"lat\", \"condition\", \"view\"]}, \"complete\": 1, \"ipython\": true, \"progress\": 1.0, \"data\": [[1260, 195000], [1290, 460000], [1830, 427000], [1860, 370000], [1230, 540000], [1760, 229000], [1360, 244900], [1400, 190000], [3000, 380000], [2650, 499000], [3090, 540500], [1580, 340000], [1630, 425000], [1620, 314000], [2660, 768000], [1240, 310000], [1940, 285000], [1330, 455000], [1780, 370000], [1590, 330000], [1250, 164808], [960, 322000], [4440, 1295000], [2950, 554950], [1440, 332500], [2020, 300000], [1780, 526000], [7270, 2238888], [2050, 655275], [2710, 710000], [1940, 639000], [1150, 430000], [3860, 840000], [1520, 296475], [2060, 322500], [2390, 689800], [2010, 360000], [2660, 760000], [1240, 294950], [2620, 605000], [1510, 322000], [1550, 458000], [3753, 363000], [1560, 324950], [3560, 1395000], [2880, 535000], [2130, 534950], [1180, 400000], [3990, 570000], [2753, 1350000], [3880, 635000], [2030, 471000], [1660, 453000], [1430, 350000], [2040, 580000], [2200, 320900], [3300, 789888], [4400, 1120000], [3250, 951000], [1790, 414000], [1330, 360000], [3010, 1085500], [5050, 1335000], [3390, 735000], [2350, 555000], [2070, 613000], [2150, 339950], [3280, 1050000], [2170, 913000], [1010, 354000], [5620, 2500000], [1020, 460000], [2400, 440000], [2100, 548000], [1350, 427500], [2380, 705000], [2170, 709000], [2470, 400000], [3760, 730000], [1470, 160000], [1850, 295000], [1040, 285650], [1370, 238000], [2100, 368000], [1060, 570000], [880, 415000], [2070, 535000], [3930, 1250000], [1370, 225000], [2510, 448000], [1960, 435000], [3520, 1099880], [3320, 1695000], [3350, 557500], [1050, 187000], [3090, 850000], [1950, 309000], [1550, 249950], [3190, 1050000], [2320, 437500], [1020, 214000], [990, 245000], [2260, 379000], [1610, 259950], [3260, 810000], [2780, 478000], [1620, 490000], [1970, 780000], [2240, 440000], [1230, 375000], [1520, 135000], [1560, 524000], [1140, 450000], [1000, 715000], [1660, 605000], [1500, 403000], [1660, 635500], [980, 335000], [1500, 606000], [960, 290000], [1130, 126500], [3150, 649500], [770, 395000], [2540, 374950], [1380, 195000], [2500, 599950], [2800, 529000], [5150, 2140000], [1820, 504500], [980, 260000], [2350, 754000], [2050, 689500], [1800, 440000], [1470, 299900], [2100, 399000], [1760, 577000], [2180, 379000], [2590, 452000], [1400, 311000], [2700, 338150], [2650, 435000], [1000, 410988], [1960, 490000], [3960, 1180000], [7100, 3200000], [1040, 440000], [2100, 270000], [1990, 763101], [2260, 555000], [2810, 725000], [3420, 1195000], [1830, 365000], [1250, 282950], [2020, 689000], [1680, 629950], [1320, 190000], [1140, 549000], [550, 353000], [2820, 810000], [2620, 443000], [1440, 269950], [1880, 395900], [3400, 712000], [790, 259950], [1770, 291500], [3160, 545000], [1390, 460000], [2170, 842000], [2270, 560000], [2000, 630000], [3890, 970000], [1420, 310000], [1110, 345000], [1990, 690000], [2180, 490000], [2210, 383150], [1540, 340000], [2260, 489000], [3930, 1875000], [2190, 833000], [2500, 760000], [970, 425000], [3590, 1302000], [2500, 368500], [1420, 241400], [4090, 1095000], [2250, 550000], [2360, 293000], [2605, 789800], [1830, 295000], [1610, 395000], [2500, 455000], [1770, 667000], [2910, 600000], [1850, 330000], [2180, 727000], [1550, 453000], [2150, 465000], [1220, 210500], [1380, 375000], [1250, 263000], [2340, 660000], [1580, 300000], [2300, 520000], [1950, 345100], [2330, 690000], [2080, 254000], [2150, 595000], [2980, 367500], [2300, 464000], [790, 118125], [1252, 352000], [2620, 450000], [2700, 580000], [1640, 250000], [1780, 935000], [2370, 404000], [2020, 311000], [1340, 172000], [3110, 436500], [2560, 518000], [1390, 530000], [1500, 235000], [4340, 537500], [1720, 615000], [940, 473000], [2230, 500000], [1600, 332500], [3820, 920000], [1220, 415000], [1010, 205000], [4590, 3000000], [2220, 542000], [3150, 1206505], [1740, 266500], [2940, 795000], [2880, 440000], [1750, 499000], [2340, 995000], [870, 312500], [1850, 328000], [1040, 412000], [1425, 467000], [1790, 515000], [720, 375000], [2920, 680000], [1010, 290000], [2860, 583500], [3090, 1220000], [2670, 749000], [3900, 850000], [760, 265000], [2670, 410000], [2800, 408000], [1040, 225000], [1270, 386100], [800, 422500], [3410, 1085000], [1970, 402000], [820, 207000], [3690, 440000], [2260, 539000], [2820, 450000], [1180, 345000], [1730, 340000], [2980, 350000], [1670, 661000], [1660, 270000], [1571, 366750], [3370, 1325000], [1200, 170000], [2250, 975000], [770, 365000], [2230, 480000], [3040, 598555], [2020, 840000], [1570, 592350], [1600, 265000], [1360, 360000], [2180, 634950], [1230, 433500], [2090, 865000], [2600, 600000], [1170, 157000], [1890, 355000], [830, 271115], [2750, 525000], [1660, 458000], [3160, 848750], [2400, 299000], [2910, 292000], [2270, 310000], [1820, 385000], [3390, 780000], [1110, 371000], [1230, 295000], [2400, 280000], [1690, 293000], [1400, 217000], [1730, 445000], [3640, 555000], [980, 395000], [1550, 805000], [1270, 280000], [1480, 584000], [1160, 250000], [3620, 1525000], [2680, 463000], [2380, 319000], [3740, 660000], [1240, 352499], [3990, 1200000], [1420, 435000], [1140, 704000], [2643, 376950], [1140, 320000], [1610, 280000], [1800, 280000], [1020, 208000], [1200, 718500], [1850, 474950], [1820, 367000], [3320, 1100000], [1490, 259000], [1240, 232000], [2210, 1262000], [1120, 549995], [1930, 670000], [7850, 2700000], [2870, 465000], [1510, 479200], [1200, 430000], [1740, 350000], [1870, 595888], [4083, 637000], [2520, 861000], [2990, 1061604], [1860, 267500], [1150, 441000], [1620, 218000], [2580, 437000], [1280, 252500], [790, 250275], [1280, 206000], [3260, 715000], [2470, 811000], [1580, 525000], [950, 193500], [3050, 585000], [1930, 469500], [1360, 197000], [1240, 355000], [1540, 279000], [1900, 250000], [2770, 653000], [1580, 289000], [1690, 345000], [2060, 420000], [3520, 795000], [1860, 380000], [1700, 979000], [1900, 530000], [950, 193000], [2380, 986000], [1820, 479950], [2570, 500000], [1690, 197000], [1350, 567500], [1320, 366000], [2350, 1015000], [3150, 570000], [1040, 217450], [1840, 550000], [2850, 679950], [1580, 216000], [1650, 443000], [1413, 260000], [1150, 361000], [1300, 230000], [2540, 775000], [1800, 625000], [2700, 470000], [3150, 999000], [2547, 392440], [1090, 356700], [1650, 622000], [3990, 740000], [2200, 535000], [1010, 325000], [2460, 835000], [1300, 240000], [1980, 490000], [2540, 310000], [1590, 310000], [1020, 290000], [2740, 409000], [2100, 595000], [2420, 549000], [890, 220000], [1870, 455000], [4630, 809000], [3480, 860000], [3740, 789000], [1260, 255000], [1680, 258000], [2490, 572500], [1610, 305000], [2590, 480000], [3680, 1900000], [1560, 900000], [1760, 314950], [1620, 620000], [1150, 280000], [2000, 577500], [3360, 420000], [2910, 570000], [2580, 260000], [2120, 625000], [1860, 355000], [2060, 415000], [1580, 190000], [3620, 825000], [1260, 305000], [1590, 240000], [1480, 469000], [2244, 269950], [2090, 248500], [2970, 745000], [1020, 325000], [940, 329000], [2290, 328500], [3530, 1095000], [990, 219950], [1680, 396000], [2000, 443950], [4110, 935000], [2570, 795000], [1790, 336000], [2420, 697000], [1940, 520000], [960, 325000], [1300, 175000], [3020, 735000], [1250, 209000], [1330, 535000], [1520, 250000], [3620, 2230000], [3860, 670000], [2320, 475000], [1320, 529000], [1810, 387000], [1220, 333500], [2140, 485000], [1570, 342000], [2610, 650000], [2740, 651000], [1480, 656000], [2820, 395000], [1490, 365250], [1980, 317750], [1680, 480000], [3420, 975000], [2840, 250000], [2760, 1185000], [980, 330000], [1880, 266500], [1700, 550000], [1850, 325000], [1340, 415000], [1460, 220650], [3290, 595000], [1540, 375000], [1100, 194820], [1560, 265000], [2650, 725000], [3670, 824000], [1120, 439800], [1280, 215000], [2400, 575000], [2200, 305000], [2230, 700000], [1140, 476000], [4200, 1650000], [3980, 1765000], [2910, 499000], [2910, 1295000], [3030, 580000], [1950, 275000], [1840, 390000], [1250, 208000], [3190, 725995], [1500, 235000], [1450, 309950], [4600, 800000], [2700, 690000], [1490, 275000], [1230, 435000], [2242, 310000], [1920, 535000], [1160, 306000], [1690, 277500], [1950, 447500], [2210, 802000], [1480, 320000], [2390, 623000], [1400, 230000], [1420, 455000], [1360, 244000], [1200, 242500], [2640, 490000], [1470, 220000], [770, 385000], [3920, 770000], [950, 230000], [2570, 567500], [4190, 460000], [1140, 230000], [3440, 495000], [1100, 361000], [590, 240000], [2900, 770000], [630, 190000], [2760, 399950], [940, 185000], [3680, 788000], [1330, 458450], [1270, 240000], [2800, 440000], [1764, 349950], [750, 319000], [1780, 270500], [2020, 317000], [2740, 495000], [1920, 554000], [1850, 245000], [880, 312500], [2750, 895000], [4200, 1460000], [3420, 1200000], [2920, 875000], [2060, 340000], [1590, 249000], [700, 191000], [5050, 2320000], [2500, 305000], [1290, 373000], [2520, 685000], [1240, 825000], [4440, 600000], [1590, 185000], [3930, 575000], [3200, 725126], [1420, 224097], [1210, 380000], [770, 197000], [4240, 1660000], [1295, 487028], [4850, 3567000], [2160, 228950], [2080, 830000], [2680, 475000], [2340, 404950], [1440, 339888], [1050, 474000], [3110, 435000], [2230, 556000], [2000, 417000], [2260, 605000], [2600, 316000], [2090, 659000], [1600, 329000], [5370, 790000], [2630, 325000], [3650, 550000], [1600, 384500], [1210, 269000], [1690, 270000], [1390, 345000], [2260, 359950], [1760, 355000], [2290, 975000], [960, 358000], [5360, 700000], [1410, 655000], [1390, 560000], [970, 242000], [1610, 268000], [3270, 600000], [2110, 425000], [2811, 455000], [1260, 436500], [1220, 161500], [1790, 570000], [1270, 440000], [3087, 399950], [1790, 450000], [1480, 319000], [2340, 982218], [1260, 549950], [1560, 335000], [770, 277000], [1530, 575000], [1820, 320000], [1450, 276000], [700, 380000], [2000, 440000], [1820, 557500], [2990, 750000], [720, 403000], [1090, 430000], [1510, 442500], [2670, 675000], [1100, 570000], [3080, 679000], [950, 365000], [1350, 595000], [960, 224975], [2050, 639888], [1020, 280000], [720, 280000], [1920, 260000], [2570, 490000], [2250, 342000], [910, 605000], [3300, 925000], [1170, 282500], [970, 184000], [2031, 335000], [1360, 370000], [5860, 1750000], [1950, 274000], [2100, 503000], [5480, 2400000], [1670, 240000], [1750, 279000], [1680, 350000], [3030, 599900], [3300, 765000], [1560, 320000], [1280, 395000], [3570, 928990], [4580, 2900000], [1390, 267000], [1810, 507000], [810, 170000], [2270, 304999], [2640, 678000], [2283, 389950], [920, 530000], [1400, 850000], [1210, 615000], [1560, 254000], [840, 151100], [1780, 325000], [2930, 442515], [2610, 608000], [2480, 620000], [2110, 435000], [1430, 356000], [1440, 337000], [850, 294000], [1880, 389800], [1290, 450000], [1470, 385000], [2570, 540000], [2380, 545000], [2190, 625000], [2060, 275000], [3120, 1939999], [1590, 325000], [1940, 530000], [1810, 229500], [1960, 372000], [1960, 250000], [1370, 415000], [3010, 1280000], [2110, 475300], [2370, 899000], [3760, 1375000], [1430, 525000], [1700, 407000], [1770, 295000], [3400, 865000], [2380, 413000], [1210, 315000], [2496, 661000], [2600, 540000], [1061, 223990], [1260, 295000], [2497, 275000], [3920, 1650000], [1460, 235000], [1620, 260656], [2110, 336000], [2260, 365000], [2470, 361000], [860, 207000], [3350, 844000], [2180, 350000], [1170, 324800], [1800, 436000], [2820, 690000], [1720, 620000], [2200, 606000], [930, 178500], [1310, 365000], [1400, 430100], [3780, 962800], [1710, 305000], [1410, 380500], [1260, 531000], [1520, 240000], [1020, 322500], [840, 295000], [2050, 595000], [1600, 375000], [1200, 130000], [730, 378500], [2980, 725000], [2090, 415000], [1960, 560000], [1480, 585000], [1180, 399500], [3200, 839000], [790, 439000], [810, 229000], [1460, 570000], [2560, 825000], [2300, 619000], [2130, 353000], [1450, 410000], [1740, 335000], [2190, 524000], [1170, 425000], [2620, 535000], [1950, 315000], [860, 198000], [2030, 515000], [1358, 311600], [2160, 530000], [2210, 648000], [2870, 1325000], [2290, 390000], [1820, 815000], [1520, 386500], [3740, 1079000], [1250, 555000], [2620, 975000], [1650, 266750], [850, 295000], [1430, 345000], [2100, 555000], [1920, 443000], [3600, 760000], [2500, 397900], [1700, 420000], [1270, 134000], [1340, 399000], [2300, 1335000], [1260, 618000], [2350, 1195000], [4070, 1454000], [2440, 310000], [1380, 380000], [910, 128000], [1960, 298000], [1190, 311000], [1030, 250000], [970, 262500], [2210, 710000], [2150, 580000], [1680, 485000], [3870, 900000], [1750, 341000], [3860, 1755000], [3080, 775000], [1320, 209000], [2330, 372000], [1460, 1010000], [1450, 355000], [1050, 295000], [1780, 309000], [2090, 465000], [3450, 852880], [1290, 359950], [1650, 559500], [1310, 255000], [2530, 450000], [1940, 232500], [2240, 905000], [3700, 722500], [1960, 425000], [1510, 445000], [1770, 324950], [3210, 770000], [1440, 472500], [2400, 450000], [1490, 467500], [2100, 470000], [2030, 287500], [2690, 730000], [3190, 765000], [2420, 369946], [980, 575000], [1550, 385200], [610, 286000], [3440, 855000], [3230, 729953], [2500, 669500], [1560, 270000], [1860, 585000], [2864, 380000], [1610, 313500], [2170, 225000], [1980, 213000], [2370, 1034500], [2340, 290000], [1170, 209977], [3100, 540000], [950, 475000], [2300, 299000], [2280, 534000], [3040, 420000], [750, 135000], [2800, 915000], [1090, 289000], [1190, 195000], [3130, 1400000], [1130, 420000], [2630, 583000], [1010, 405000], [1380, 539000], [1900, 270000], [570, 310000], [1370, 185000], [1540, 180500], [1860, 535000], [1320, 650000], [2690, 307450], [2240, 242000], [3420, 650000], [3340, 910000], [890, 305000], [1440, 450000], [1920, 625000], [2480, 408506], [1390, 510000], [2510, 358000], [2100, 305000], [1040, 217500], [3160, 1190000], [1510, 800000], [1030, 223000], [2520, 560000], [4180, 550000], [780, 200000], [870, 395000], [2760, 799500], [2050, 324950], [1840, 750000], [1220, 280000], [1590, 349000], [1800, 719000], [520, 295000], [1910, 299000], [3960, 2500000], [4350, 900000], [1210, 529000], [1170, 760000], [910, 100000], [2380, 445000], [1490, 389250], [2030, 906000], [3300, 785000], [2370, 479000], [1900, 504975], [830, 110000], [1190, 250000], [2480, 920000], [1450, 277000], [2690, 439000], [3070, 850000], [1480, 468000], [2030, 618080], [1810, 375000], [2820, 705000], [1370, 190848], [1940, 790000], [1610, 260000], [1660, 650000], [1230, 150000], [1850, 565000], [2344, 791000], [3310, 649950], [2110, 590000], [1710, 431650], [3052, 425000], [3270, 357500], [2990, 590000], [1440, 435000], [2690, 1650000], [910, 515000], [3130, 866059], [1984, 300000], [2620, 746000], [2710, 540000], [2390, 363000], [1440, 410000], [1560, 399950], [1910, 650000], [1646, 307500], [1740, 447000], [2290, 685000], [1270, 246500], [1500, 432500], [1460, 521000], [1830, 375000], [1170, 325000], [2610, 350000], [1940, 266000], [1700, 250000], [2250, 349950], [2680, 830200], [2190, 699900], [840, 187500], [1480, 275000], [1760, 444950], [3569, 580000], [2250, 998800], [2300, 525000], [2820, 875000], [1870, 330000], [3090, 595000], [1540, 530100], [4210, 1146800], [2060, 595000], [4240, 2187730], [2240, 450000], [2900, 720000], [3520, 1400000], [2730, 599000], [970, 315000], [1660, 350000], [1290, 481000], [1630, 438000], [2150, 317500], [1090, 149900], [2060, 360000], [3550, 730000], [1220, 240000], [1830, 379500], [3340, 576000], [2770, 1400000], [2940, 752000], [1490, 255000], [1040, 687500], [1440, 230000], [2310, 407450], [2070, 320000], [1230, 839000], [1550, 453500], [2000, 320000], [970, 425000], [2640, 1220000], [1630, 540000], [1420, 490000], [1700, 294000], [1610, 215000], [3350, 635000], [3390, 303500], [3680, 700000], [1550, 330000], [1990, 246000], [1090, 460000], [1890, 495000], [2300, 567500], [3526, 911000], [2510, 900000], [2210, 733000], [5350, 3345000], [2210, 263500], [2620, 885000], [1489, 255900], [3370, 1245000], [880, 326100], [2230, 600000], [2310, 334000], [2380, 446250], [1500, 399000], [2820, 428900], [1160, 262500], [1810, 216000], [1960, 450000], [3090, 908950], [1660, 385000], [1270, 235000], [1020, 212000], [1620, 305000], [3223, 479349], [3030, 660000]], \"columns\": [{\"dtype\": \"str\", \"name\": \"id\"}, {\"dtype\": \"datetime\", \"name\": \"date\"}, {\"dtype\": \"int\", \"name\": \"price\"}, {\"dtype\": \"str\", \"name\": \"bedrooms\"}, {\"dtype\": \"str\", \"name\": \"bathrooms\"}, {\"dtype\": \"int\", \"name\": \"sqft_living\"}, {\"dtype\": \"int\", \"name\": \"sqft_lot\"}, {\"dtype\": \"str\", \"name\": \"floors\"}, {\"dtype\": \"int\", \"name\": \"waterfront\"}, {\"dtype\": \"int\", \"name\": \"view\"}, {\"dtype\": \"int\", \"name\": \"condition\"}, {\"dtype\": \"int\", \"name\": \"grade\"}, {\"dtype\": \"int\", \"name\": \"sqft_above\"}, {\"dtype\": \"int\", \"name\": \"sqft_basement\"}, {\"dtype\": \"int\", \"name\": \"yr_built\"}, {\"dtype\": \"int\", \"name\": \"yr_renovated\"}, {\"dtype\": \"str\", \"name\": \"zipcode\"}, {\"dtype\": \"float\", \"name\": \"lat\"}, {\"dtype\": \"float\", \"name\": \"long\"}, {\"dtype\": \"float\", \"name\": \"sqft_living15\"}, {\"dtype\": \"float\", \"name\": \"sqft_lot15\"}]}, e);\n",
       "                });\n",
       "            })();\n",
       "        "
      ]
     },
     "metadata": {},
     "output_type": "display_data"
    }
   ],
   "source": [
    "import graphlab\n",
    "import matplotlib.pyplot as pt\n",
    "sales=graphlab.SFrame(\"home_data.gl/\")\n",
    "sales\n",
    "graphlab.canvas.set_target(\"ipynb\")\n",
    "\n",
    "sales.show(view=\"Scatter Plot\",x=\"sqft_living\",y=\"price\")"
   ]
  },
  {
   "cell_type": "code",
   "execution_count": 2,
   "metadata": {
    "collapsed": false
   },
   "outputs": [
    {
     "name": "stdout",
     "output_type": "stream",
     "text": [
      "PROGRESS: Creating a validation set from 5 percent of training data. This may take a while.\n",
      "          You can set ``validation_set=None`` to disable validation tracking.\n",
      "\n"
     ]
    },
    {
     "data": {
      "text/html": [
       "<pre>Linear regression:</pre>"
      ],
      "text/plain": [
       "Linear regression:"
      ]
     },
     "metadata": {},
     "output_type": "display_data"
    },
    {
     "data": {
      "text/html": [
       "<pre>--------------------------------------------------------</pre>"
      ],
      "text/plain": [
       "--------------------------------------------------------"
      ]
     },
     "metadata": {},
     "output_type": "display_data"
    },
    {
     "data": {
      "text/html": [
       "<pre>Number of examples          : 16549</pre>"
      ],
      "text/plain": [
       "Number of examples          : 16549"
      ]
     },
     "metadata": {},
     "output_type": "display_data"
    },
    {
     "data": {
      "text/html": [
       "<pre>Number of features          : 1</pre>"
      ],
      "text/plain": [
       "Number of features          : 1"
      ]
     },
     "metadata": {},
     "output_type": "display_data"
    },
    {
     "data": {
      "text/html": [
       "<pre>Number of unpacked features : 1</pre>"
      ],
      "text/plain": [
       "Number of unpacked features : 1"
      ]
     },
     "metadata": {},
     "output_type": "display_data"
    },
    {
     "data": {
      "text/html": [
       "<pre>Number of coefficients    : 2</pre>"
      ],
      "text/plain": [
       "Number of coefficients    : 2"
      ]
     },
     "metadata": {},
     "output_type": "display_data"
    },
    {
     "data": {
      "text/html": [
       "<pre>Starting Newton Method</pre>"
      ],
      "text/plain": [
       "Starting Newton Method"
      ]
     },
     "metadata": {},
     "output_type": "display_data"
    },
    {
     "data": {
      "text/html": [
       "<pre>--------------------------------------------------------</pre>"
      ],
      "text/plain": [
       "--------------------------------------------------------"
      ]
     },
     "metadata": {},
     "output_type": "display_data"
    },
    {
     "data": {
      "text/html": [
       "<pre>+-----------+----------+--------------+--------------------+----------------------+---------------+-----------------+</pre>"
      ],
      "text/plain": [
       "+-----------+----------+--------------+--------------------+----------------------+---------------+-----------------+"
      ]
     },
     "metadata": {},
     "output_type": "display_data"
    },
    {
     "data": {
      "text/html": [
       "<pre>| Iteration | Passes   | Elapsed Time | Training-max_error | Validation-max_error | Training-rmse | Validation-rmse |</pre>"
      ],
      "text/plain": [
       "| Iteration | Passes   | Elapsed Time | Training-max_error | Validation-max_error | Training-rmse | Validation-rmse |"
      ]
     },
     "metadata": {},
     "output_type": "display_data"
    },
    {
     "data": {
      "text/html": [
       "<pre>+-----------+----------+--------------+--------------------+----------------------+---------------+-----------------+</pre>"
      ],
      "text/plain": [
       "+-----------+----------+--------------+--------------------+----------------------+---------------+-----------------+"
      ]
     },
     "metadata": {},
     "output_type": "display_data"
    },
    {
     "data": {
      "text/html": [
       "<pre>| 1         | 2        | 1.107361     | 4344822.645006     | 2268223.195743       | 262528.667902 | 271048.772345   |</pre>"
      ],
      "text/plain": [
       "| 1         | 2        | 1.107361     | 4344822.645006     | 2268223.195743       | 262528.667902 | 271048.772345   |"
      ]
     },
     "metadata": {},
     "output_type": "display_data"
    },
    {
     "data": {
      "text/html": [
       "<pre>+-----------+----------+--------------+--------------------+----------------------+---------------+-----------------+</pre>"
      ],
      "text/plain": [
       "+-----------+----------+--------------+--------------------+----------------------+---------------+-----------------+"
      ]
     },
     "metadata": {},
     "output_type": "display_data"
    },
    {
     "data": {
      "text/html": [
       "<pre>SUCCESS: Optimal solution found.</pre>"
      ],
      "text/plain": [
       "SUCCESS: Optimal solution found."
      ]
     },
     "metadata": {},
     "output_type": "display_data"
    },
    {
     "data": {
      "text/html": [
       "<pre></pre>"
      ],
      "text/plain": []
     },
     "metadata": {},
     "output_type": "display_data"
    }
   ],
   "source": [
    "###Creating Simple_regression_model with sqr_fit_living as independent and price as response\n",
    "training_data,test_data=sales.random_split(0.8,seed=0)\n",
    "###Build regression model\n",
    "sqft_model=graphlab.linear_regression.create(training_data,target='price',features=['sqft_living'])"
   ]
  },
  {
   "cell_type": "code",
   "execution_count": 3,
   "metadata": {
    "collapsed": false
   },
   "outputs": [
    {
     "data": {
      "text/plain": [
       "[<matplotlib.lines.Line2D at 0x7f94240abbd0>,\n",
       " <matplotlib.lines.Line2D at 0x7f94240abc90>]"
      ]
     },
     "execution_count": 3,
     "metadata": {},
     "output_type": "execute_result"
    },
    {
     "data": {
      "image/png": "[encoded data removed]",
      "text/plain": [
       "<matplotlib.figure.Figure at 0x7f942430b850>"
      ]
     },
     "metadata": {},
     "output_type": "display_data"
    }
   ],
   "source": [
    "%matplotlib inline\n",
    "pt.plot(test_data['sqft_living'],test_data['price'],'.',test_data['sqft_living'],sqft_model.predict(test_data),'-')"
   ]
  },
  {
   "cell_type": "code",
   "execution_count": 4,
   "metadata": {
    "collapsed": false
   },
   "outputs": [
    {
     "data": {
      "application/javascript": [
       "$(\"head\").append($(\"<link/>\").attr({\n",
       "  rel:  \"stylesheet\",\n",
       "  type: \"text/css\",\n",
       "  href: \"//cdnjs.cloudflare.com/ajax/libs/font-awesome/4.1.0/css/font-awesome.min.css\"\n",
       "}));\n",
       "$(\"head\").append($(\"<link/>\").attr({\n",
       "  rel:  \"stylesheet\",\n",
       "  type: \"text/css\",\n",
       "  href: \"https://static.turi.com/products/graphlab-create/2.1/canvas/css/canvas.css\"\n",
       "}));\n",
       "\n",
       "            (function(){\n",
       "\n",
       "                var e = null;\n",
       "                if (typeof element == 'undefined') {\n",
       "                    var scripts = document.getElementsByTagName('script');\n",
       "                    var thisScriptTag = scripts[scripts.length-1];\n",
       "                    var parentDiv = thisScriptTag.parentNode;\n",
       "                    e = document.createElement('div');\n",
       "                    parentDiv.appendChild(e);\n",
       "                } else {\n",
       "                    e = element[0];\n",
       "                }\n",
       "\n",
       "                if (typeof requirejs !== 'undefined') {\n",
       "                    // disable load timeout; ipython_app.js is large and can take a while to load.\n",
       "                    requirejs.config({waitSeconds: 0});\n",
       "                }\n",
       "\n",
       "                require(['https://static.turi.com/products/graphlab-create/2.1/canvas/js/ipython_app.js'], function(IPythonApp){\n",
       "                    var app = new IPythonApp();\n",
       "                    app.attachView('sframe','Plots', {\"selected_variable\": {\"name\": [\"sales\"], \"descriptives\": {\"rows\": 21613, \"columns\": 21}, \"view_component\": \"Plots\", \"view_file\": \"sframe\", \"view_params\": {\"y\": \"price\", \"x\": \"zipcode\", \"columns\": [\"id\", \"date\", \"price\", \"bedrooms\", \"bathrooms\", \"sqft_living\", \"sqft_lot\", \"floors\", \"waterfront\", \"view\", \"condition\", \"grade\", \"sqft_above\", \"sqft_basement\", \"yr_built\", \"yr_renovated\", \"zipcode\", \"lat\", \"long\", \"sqft_living15\", \"sqft_lot15\"], \"view\": \"BoxWhisker Plot\"}, \"view_components\": [\"Summary\", \"Table\", \"Bar Chart\", \"BoxWhisker Plot\", \"Line Chart\", \"Scatter Plot\", \"Heat Map\", \"Plots\"], \"type\": \"SFrame\", \"columns\": [{\"dtype\": \"str\", \"name\": \"id\"}, {\"dtype\": \"datetime\", \"name\": \"date\"}, {\"dtype\": \"int\", \"name\": \"price\"}, {\"dtype\": \"str\", \"name\": \"bedrooms\"}, {\"dtype\": \"str\", \"name\": \"bathrooms\"}, {\"dtype\": \"int\", \"name\": \"sqft_living\"}, {\"dtype\": \"int\", \"name\": \"sqft_lot\"}, {\"dtype\": \"str\", \"name\": \"floors\"}, {\"dtype\": \"int\", \"name\": \"waterfront\"}, {\"dtype\": \"int\", \"name\": \"view\"}, {\"dtype\": \"int\", \"name\": \"condition\"}, {\"dtype\": \"int\", \"name\": \"grade\"}, {\"dtype\": \"int\", \"name\": \"sqft_above\"}, {\"dtype\": \"int\", \"name\": \"sqft_basement\"}, {\"dtype\": \"int\", \"name\": \"yr_built\"}, {\"dtype\": \"int\", \"name\": \"yr_renovated\"}, {\"dtype\": \"str\", \"name\": \"zipcode\"}, {\"dtype\": \"float\", \"name\": \"lat\"}, {\"dtype\": \"float\", \"name\": \"long\"}, {\"dtype\": \"float\", \"name\": \"sqft_living15\"}, {\"dtype\": \"float\", \"name\": \"sqft_lot15\"}], \"column_identifiers\": [\"bathrooms\", \"sqft_living15\", \"sqft_above\", \"grade\", \"yr_built\", \"price\", \"bedrooms\", \"zipcode\", \"long\", \"id\", \"sqft_lot15\", \"sqft_living\", \"floors\", \"sqft_lot\", \"date\", \"waterfront\", \"sqft_basement\", \"yr_renovated\", \"lat\", \"condition\", \"view\"]}, \"complete\": 1, \"ipython\": true, \"progress\": 1.0, \"data\": {\"grouped\": [[\"98001\", [100000.0, 115000.0, 180000.0, 184000.0, 215000.0, 260000.0, 320000.0, 420000.0, 427000.0, 625000.0, 850000.0]], [\"98002\", [95000.0, 111300.0, 160000.0, 163500.0, 199950.0, 235000.0, 269000.0, 298900.0, 300000.0, 370000.0, 389000.0]], [\"98003\", [128000.0, 152500.0, 199000.0, 200000.0, 229000.0, 267950.0, 333000.0, 420000.0, 429900.0, 740000.0, 950000.0]], [\"98004\", [425000.0, 595000.0, 695000.0, 720000.0, 845000.0, 1150000.0, 1691000.0, 2150000.0, 2200000.0, 3800000.0, 7062500.0]], [\"98005\", [400000.0, 411100.0, 542500.0, 549000.0, 638700.0, 768500.0, 915000.0, 1110000.0, 1125000.0, 1900000.0, 1960000.0]], [\"98006\", [247500.0, 295000.0, 450000.0, 455000.0, 575000.0, 760369.0, 978000.0, 1380000.0, 1400000.0, 2525000.0, 4208000.0]], [\"98007\", [295000.0, 330000.0, 415500.0, 419000.0, 465000.0, 555000.0, 730000.0, 900000.0, 907500.0, 1229000.0, 1315000.0]], [\"98008\", [250000.0, 277700.0, 405000.0, 415000.0, 465000.0, 545000.0, 660000.0, 850000.0, 899000.0, 3300000.0, 3567000.0]], [\"98010\", [135000.0, 162000.0, 208500.0, 212644.0, 257000.0, 360000.0, 600000.0, 712000.0, 720000.0, 935000.0, 935000.0]], [\"98011\", [245500.0, 260000.0, 347000.0, 361000.0, 411800.0, 470000.0, 550000.0, 632000.0, 650000.0, 870000.0, 1075000.0]], [\"98014\", [80000.0, 134000.0, 167000.0, 180000.0, 309000.0, 415000.0, 539000.0, 739000.0, 755000.0, 1610000.0, 1680000.0]], [\"98019\", [119500.0, 170000.0, 289275.0, 299950.0, 330000.0, 402500.0, 500000.0, 570000.0, 570000.0, 979500.0, 1015000.0]], [\"98022\", [75000.0, 152900.0, 199990.0, 200000.0, 235000.0, 280000.0, 350000.0, 475000.0, 487000.0, 750000.0, 858000.0]], [\"98023\", [86500.0, 115000.0, 188000.0, 193000.0, 224097.0, 268450.0, 316500.0, 402500.0, 415000.0, 629000.0, 1275000.0]], [\"98024\", [142000.0, 142000.0, 258000.0, 260000.0, 340000.0, 460000.0, 700000.0, 997950.0, 1065000.0, 1862000.0, 1862000.0]], [\"98027\", [130000.0, 240000.0, 352499.0, 361000.0, 450000.0, 571000.0, 716500.0, 865000.0, 890000.0, 1800000.0, 2700000.0]], [\"98028\", [160000.0, 196000.0, 300000.0, 310000.0, 379950.0, 445000.0, 526750.0, 610000.0, 619990.0, 1120000.0, 1600000.0]], [\"98029\", [285000.0, 310000.0, 413565.0, 420000.0, 485000.0, 575000.0, 690000.0, 795000.0, 812000.0, 1450000.0, 2200000.0]], [\"98030\", [120000.0, 140000.0, 213400.0, 220000.0, 249950.0, 282510.0, 339950.0, 380000.0, 386000.0, 491000.0, 565000.0]], [\"98031\", [147500.0, 152000.0, 223000.0, 230000.0, 252000.0, 288400.0, 327500.0, 377000.0, 382500.0, 680000.0, 800000.0]], [\"98032\", [85000.0, 85000.0, 165000.0, 169000.0, 221700.0, 249000.0, 285000.0, 321000.0, 324900.0, 400000.0, 545000.0]], [\"98033\", [130000.0, 305000.0, 425000.0, 437500.0, 535000.0, 678700.0, 902000.0, 1339000.0, 1378000.0, 2650000.0, 5110800.0]], [\"98034\", [90000.0, 257000.0, 330000.0, 335000.0, 387000.0, 445950.0, 525000.0, 749950.0, 799950.0, 2125000.0, 3120000.0]], [\"98038\", [110000.0, 176000.0, 240000.0, 245000.0, 285000.0, 342000.0, 410000.0, 533000.0, 540000.0, 849000.0, 1350000.0]], [\"98039\", [787500.0, 787500.0, 940000.0, 1000000.0, 1398000.0, 1905000.0, 2575000.0, 3640900.0, 3640900.0, 6885000.0, 6885000.0]], [\"98040\", [500000.0, 550000.0, 685000.0, 698000.0, 821000.0, 994000.0, 1387000.0, 1815000.0, 1900000.0, 3850000.0, 5300000.0]], [\"98042\", [105000.0, 132825.0, 200000.0, 204000.0, 240000.0, 292500.0, 359950.0, 444900.0, 450000.0, 734000.0, 859000.0]], [\"98045\", [175000.0, 189000.0, 259000.0, 271000.0, 305000.0, 399500.0, 495000.0, 665000.0, 688000.0, 1075000.0, 1950000.0]], [\"98052\", [225000.0, 315000.0, 425000.0, 432100.0, 509250.0, 615000.0, 751000.0, 852500.0, 872750.0, 1299888.0, 2200000.0]], [\"98053\", [170000.0, 300000.0, 400000.0, 405000.0, 485000.0, 635000.0, 790500.0, 955990.0, 975000.0, 1769000.0, 2280000.0]], [\"98055\", [100000.0, 126000.0, 192000.0, 197500.0, 240000.0, 295000.0, 350000.0, 430000.0, 440000.0, 580000.0, 631000.0]], [\"98056\", [139000.0, 155000.0, 230000.0, 231500.0, 289000.0, 380000.0, 510000.0, 635000.0, 640000.0, 980000.0, 3000000.0]], [\"98058\", [95000.0, 144000.0, 225000.0, 230000.0, 285000.0, 335000.0, 392000.0, 475000.0, 485000.0, 790000.0, 1500000.0]], [\"98059\", [172500.0, 217000.0, 291375.0, 294500.0, 340000.0, 435000.0, 552500.0, 751000.0, 785000.0, 1300000.0, 1780000.0]], [\"98065\", [170000.0, 208000.0, 323000.0, 335000.0, 424950.0, 500000.0, 619000.0, 710000.0, 723000.0, 1145000.0, 1998000.0]], [\"98070\", [160000.0, 181000.0, 280000.0, 285000.0, 340000.0, 465000.0, 575000.0, 729000.0, 730000.0, 1350000.0, 1379900.0]], [\"98072\", [200000.0, 275000.0, 357823.0, 365000.0, 422800.0, 515000.0, 642860.0, 879000.0, 905000.0, 1350000.0, 1565000.0]], [\"98074\", [280000.0, 325000.0, 420000.0, 434900.0, 532000.0, 642000.0, 798000.0, 922755.0, 929000.0, 1675000.0, 3075000.0]], [\"98075\", [406430.0, 432000.0, 545000.0, 550000.0, 641000.0, 739999.0, 870000.0, 1060000.0, 1062500.0, 2000000.0, 3200000.0]], [\"98077\", [250000.0, 274975.0, 335000.0, 353000.0, 510000.0, 654950.0, 835000.0, 950000.0, 985000.0, 1820000.0, 1920000.0]], [\"98092\", [90000.0, 148226.0, 210000.0, 216000.0, 263950.0, 309780.0, 379500.0, 471275.0, 480000.0, 835000.0, 930000.0]], [\"98102\", [330000.0, 350000.0, 440000.0, 475000.0, 575000.0, 720000.0, 979700.0, 1440000.0, 1443917.0, 2479000.0, 7700000.0]], [\"98103\", [238000.0, 259250.0, 352950.0, 355000.0, 432000.0, 550000.0, 695000.0, 830000.0, 850000.0, 1350000.0, 1695000.0]], [\"98105\", [380000.0, 395000.0, 483000.0, 485000.0, 550000.0, 675000.0, 1005000.0, 1415000.0, 1482500.0, 2555000.0, 3650000.0]], [\"98106\", [90000.0, 107000.0, 208400.0, 210000.0, 260000.0, 315000.0, 366000.0, 426000.0, 435000.0, 625000.0, 795000.0]], [\"98107\", [290000.0, 356000.0, 425000.0, 430000.0, 470000.0, 529950.0, 630000.0, 752500.0, 769950.0, 1205000.0, 2945000.0]], [\"98108\", [90000.0, 130000.0, 230000.0, 230000.0, 284000.0, 345000.0, 425000.0, 491000.0, 500000.0, 635000.0, 640000.0]], [\"98109\", [216650.0, 216650.0, 478000.0, 479000.0, 620000.0, 736000.0, 1000000.0, 1450000.0, 1450000.0, 2900000.0, 3200000.0]], [\"98112\", [169317.0, 350000.0, 515000.0, 524000.0, 680000.0, 915000.0, 1328000.0, 1975000.0, 2048000.0, 3000000.0, 3400000.0]], [\"98115\", [200000.0, 289500.0, 395000.0, 399000.0, 455000.0, 567000.0, 719000.0, 897000.0, 925000.0, 1500000.0, 2300000.0]], [\"98116\", [130000.0, 252000.0, 386950.0, 390000.0, 460000.0, 565500.0, 703000.0, 930000.0, 950000.0, 1598888.0, 2050000.0]], [\"98117\", [125000.0, 280000.0, 375000.0, 390000.0, 450000.0, 544000.0, 657500.0, 825000.0, 850000.0, 1275000.0, 1370000.0]], [\"98118\", [109000.0, 155000.0, 221000.0, 226000.0, 289000.0, 367500.0, 476500.0, 665000.0, 680000.0, 1309500.0, 2903000.0]], [\"98119\", [300523.0, 365000.0, 485000.0, 490000.0, 600000.0, 749950.0, 940000.0, 1320000.0, 1330000.0, 2630000.0, 3065000.0]], [\"98122\", [202000.0, 260000.0, 375000.0, 385000.0, 450000.0, 574000.0, 720000.0, 920000.0, 925000.0, 1850000.0, 2050000.0]], [\"98125\", [175000.0, 228000.0, 303697.0, 310000.0, 357250.0, 425000.0, 518000.0, 675000.0, 689000.0, 1335000.0, 2050000.0]], [\"98126\", [110000.0, 183000.0, 250000.0, 255000.0, 320000.0, 396500.0, 485000.0, 643500.0, 661000.0, 901000.0, 1085000.0]], [\"98133\", [130000.0, 210000.0, 275000.0, 277500.0, 318000.0, 375000.0, 435000.0, 507000.0, 518000.0, 729953.0, 808100.0]], [\"98136\", [200000.0, 229050.0, 340000.0, 345000.0, 398000.0, 489950.0, 660000.0, 838000.0, 850000.0, 1662000.0, 2230000.0]], [\"98144\", [181000.0, 230000.0, 325000.0, 327000.0, 374950.0, 450000.0, 666000.0, 970000.0, 1039000.0, 2450000.0, 3600000.0]], [\"98146\", [82000.0, 104950.0, 158800.0, 175000.0, 229500.0, 307000.0, 409000.0, 605000.0, 665900.0, 1250000.0, 1410000.0]], [\"98148\", [105500.0, 105500.0, 193000.0, 193000.0, 240000.0, 278000.0, 319990.0, 375000.0, 375000.0, 600600.0, 600600.0]], [\"98155\", [153000.0, 195000.0, 267800.0, 270000.0, 315000.0, 375000.0, 460000.0, 590000.0, 600000.0, 1680000.0, 4500000.0]], [\"98166\", [100000.0, 129888.0, 220000.0, 229000.0, 292000.0, 390000.0, 540500.0, 755000.0, 770000.0, 1899000.0, 2510000.0]], [\"98168\", [78000.0, 82500.0, 150550.0, 158000.0, 199950.0, 235000.0, 285000.0, 325000.0, 327200.0, 424305.0, 600000.0]], [\"98177\", [245560.0, 276000.0, 355950.0, 367500.0, 427000.0, 554000.0, 749950.0, 1075000.0, 1200000.0, 2880500.0, 3800000.0]], [\"98178\", [90000.0, 119900.0, 180000.0, 188000.0, 223000.0, 279000.0, 350000.0, 450000.0, 460000.0, 869000.0, 1700000.0]], [\"98188\", [110000.0, 110700.0, 179000.0, 179950.0, 230000.0, 265000.0, 335000.0, 400200.0, 408000.0, 706000.0, 707000.0]], [\"98198\", [95000.0, 120000.0, 174500.0, 175000.0, 216500.0, 265000.0, 340000.0, 455000.0, 475000.0, 950000.0, 1350000.0]], [\"98199\", [323000.0, 334000.0, 419000.0, 425000.0, 535000.0, 689800.0, 950000.0, 1289000.0, 1300000.0, 2160000.0, 3200000.0]]], \"omitted\": 0}, \"columns\": [{\"dtype\": \"str\", \"name\": \"id\"}, {\"dtype\": \"datetime\", \"name\": \"date\"}, {\"dtype\": \"int\", \"name\": \"price\"}, {\"dtype\": \"str\", \"name\": \"bedrooms\"}, {\"dtype\": \"str\", \"name\": \"bathrooms\"}, {\"dtype\": \"int\", \"name\": \"sqft_living\"}, {\"dtype\": \"int\", \"name\": \"sqft_lot\"}, {\"dtype\": \"str\", \"name\": \"floors\"}, {\"dtype\": \"int\", \"name\": \"waterfront\"}, {\"dtype\": \"int\", \"name\": \"view\"}, {\"dtype\": \"int\", \"name\": \"condition\"}, {\"dtype\": \"int\", \"name\": \"grade\"}, {\"dtype\": \"int\", \"name\": \"sqft_above\"}, {\"dtype\": \"int\", \"name\": \"sqft_basement\"}, {\"dtype\": \"int\", \"name\": \"yr_built\"}, {\"dtype\": \"int\", \"name\": \"yr_renovated\"}, {\"dtype\": \"str\", \"name\": \"zipcode\"}, {\"dtype\": \"float\", \"name\": \"lat\"}, {\"dtype\": \"float\", \"name\": \"long\"}, {\"dtype\": \"float\", \"name\": \"sqft_living15\"}, {\"dtype\": \"float\", \"name\": \"sqft_lot15\"}]}, e);\n",
       "                });\n",
       "            })();\n",
       "        "
      ]
     },
     "metadata": {},
     "output_type": "display_data"
    }
   ],
   "source": [
    "features12=['zipcode','bedrooms','bathrooms','floors','sqft_living','sqft_lot']\n",
    "sales.show(view='BoxWhisker Plot',x='zipcode',y='price')\n"
   ]
  },
  {
   "cell_type": "code",
   "execution_count": 5,
   "metadata": {
    "collapsed": false
   },
   "outputs": [
    {
     "name": "stdout",
     "output_type": "stream",
     "text": [
      "PROGRESS: Creating a validation set from 5 percent of training data. This may take a while.\n",
      "          You can set ``validation_set=None`` to disable validation tracking.\n",
      "\n"
     ]
    },
    {
     "data": {
      "text/html": [
       "<pre>Linear regression:</pre>"
      ],
      "text/plain": [
       "Linear regression:"
      ]
     },
     "metadata": {},
     "output_type": "display_data"
    },
    {
     "data": {
      "text/html": [
       "<pre>--------------------------------------------------------</pre>"
      ],
      "text/plain": [
       "--------------------------------------------------------"
      ]
     },
     "metadata": {},
     "output_type": "display_data"
    },
    {
     "data": {
      "text/html": [
       "<pre>Number of examples          : 16513</pre>"
      ],
      "text/plain": [
       "Number of examples          : 16513"
      ]
     },
     "metadata": {},
     "output_type": "display_data"
    },
    {
     "data": {
      "text/html": [
       "<pre>Number of features          : 6</pre>"
      ],
      "text/plain": [
       "Number of features          : 6"
      ]
     },
     "metadata": {},
     "output_type": "display_data"
    },
    {
     "data": {
      "text/html": [
       "<pre>Number of unpacked features : 6</pre>"
      ],
      "text/plain": [
       "Number of unpacked features : 6"
      ]
     },
     "metadata": {},
     "output_type": "display_data"
    },
    {
     "data": {
      "text/html": [
       "<pre>Number of coefficients    : 115</pre>"
      ],
      "text/plain": [
       "Number of coefficients    : 115"
      ]
     },
     "metadata": {},
     "output_type": "display_data"
    },
    {
     "data": {
      "text/html": [
       "<pre>Starting Newton Method</pre>"
      ],
      "text/plain": [
       "Starting Newton Method"
      ]
     },
     "metadata": {},
     "output_type": "display_data"
    },
    {
     "data": {
      "text/html": [
       "<pre>--------------------------------------------------------</pre>"
      ],
      "text/plain": [
       "--------------------------------------------------------"
      ]
     },
     "metadata": {},
     "output_type": "display_data"
    },
    {
     "data": {
      "text/html": [
       "<pre>+-----------+----------+--------------+--------------------+----------------------+---------------+-----------------+</pre>"
      ],
      "text/plain": [
       "+-----------+----------+--------------+--------------------+----------------------+---------------+-----------------+"
      ]
     },
     "metadata": {},
     "output_type": "display_data"
    },
    {
     "data": {
      "text/html": [
       "<pre>| Iteration | Passes   | Elapsed Time | Training-max_error | Validation-max_error | Training-rmse | Validation-rmse |</pre>"
      ],
      "text/plain": [
       "| Iteration | Passes   | Elapsed Time | Training-max_error | Validation-max_error | Training-rmse | Validation-rmse |"
      ]
     },
     "metadata": {},
     "output_type": "display_data"
    },
    {
     "data": {
      "text/html": [
       "<pre>+-----------+----------+--------------+--------------------+----------------------+---------------+-----------------+</pre>"
      ],
      "text/plain": [
       "+-----------+----------+--------------+--------------------+----------------------+---------------+-----------------+"
      ]
     },
     "metadata": {},
     "output_type": "display_data"
    },
    {
     "data": {
      "text/html": [
       "<pre>| 1         | 2        | 0.067833     | 3730372.176804     | 1518566.721920       | 182997.440348 | 161651.668877   |</pre>"
      ],
      "text/plain": [
       "| 1         | 2        | 0.067833     | 3730372.176804     | 1518566.721920       | 182997.440348 | 161651.668877   |"
      ]
     },
     "metadata": {},
     "output_type": "display_data"
    },
    {
     "data": {
      "text/html": [
       "<pre>+-----------+----------+--------------+--------------------+----------------------+---------------+-----------------+</pre>"
      ],
      "text/plain": [
       "+-----------+----------+--------------+--------------------+----------------------+---------------+-----------------+"
      ]
     },
     "metadata": {},
     "output_type": "display_data"
    },
    {
     "data": {
      "text/html": [
       "<pre>SUCCESS: Optimal solution found.</pre>"
      ],
      "text/plain": [
       "SUCCESS: Optimal solution found."
      ]
     },
     "metadata": {},
     "output_type": "display_data"
    },
    {
     "data": {
      "text/html": [
       "<pre></pre>"
      ],
      "text/plain": []
     },
     "metadata": {},
     "output_type": "display_data"
    },
    {
     "name": "stdout",
     "output_type": "stream",
     "text": [
      "{'max_error': 4139782.0701002926, 'rmse': 255195.2215810204}\n",
      "{'max_error': 3448118.860087563, 'rmse': 179416.31681468635}\n"
     ]
    }
   ],
   "source": [
    "my_feature_list=graphlab.linear_regression.create(training_data,target=\"price\",features=features12)\n",
    "print sqft_model.evaluate(test_data)\n",
    "print my_feature_list.evaluate(test_data)"
   ]
  },
  {
   "cell_type": "code",
   "execution_count": 6,
   "metadata": {
    "collapsed": true
   },
   "outputs": [],
   "source": [
    "house=sales[sales['id']=='2414600126']"
   ]
  },
  {
   "cell_type": "code",
   "execution_count": 7,
   "metadata": {
    "collapsed": false
   },
   "outputs": [
    {
     "name": "stdout",
     "output_type": "stream",
     "text": [
      "[455046.19956880715]\n",
      "[433327.082168565]\n"
     ]
    }
   ],
   "source": [
    "print sqft_model.predict(house)\n",
    "print my_feature_list.predict(house)"
   ]
  },
  {
   "cell_type": "code",
   "execution_count": null,
   "metadata": {
    "collapsed": true
   },
   "outputs": [],
   "source": []
  }
 ],
 "metadata": {
  "kernelspec": {
   "display_name": "Python [gl-env]",
   "language": "python",
   "name": "Python [gl-env]"
  },
  "language_info": {
   "codemirror_mode": {
    "name": "ipython",
    "version": 2
   },
   "file_extension": ".py",
   "mimetype": "text/x-python",
   "name": "python",
   "nbconvert_exporter": "python",
   "pygments_lexer": "ipython2",
   "version": "2.7.12"
  }
 },
 "nbformat": 4,
 "nbformat_minor": 0
}
